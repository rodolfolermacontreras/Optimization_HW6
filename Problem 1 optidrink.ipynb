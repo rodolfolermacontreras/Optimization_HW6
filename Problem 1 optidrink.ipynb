{
 "cells": [
  {
   "cell_type": "markdown",
   "metadata": {},
   "source": [
    "# Offline Section: Quiz 5 - Problem 1"
   ]
  },
  {
   "cell_type": "markdown",
   "metadata": {},
   "source": [
    "## Linear Programming Model Formulation"
   ]
  },
  {
   "cell_type": "markdown",
   "metadata": {},
   "source": [
    "### OptiDrink Mixing Problem\n",
    "\n",
    "OptiDrink is a new high-energy drink. The goal is to find the optimal mix of 8 chemical ingredients to minimize the total cost while satisfying specific energy and flavor requirements. This problem is modelled as a Mixed Integer Programming (MIP) problem where the decision variables can be both continuous and binary.\n",
    "\n",
    "***Let us denote:***\n",
    "\n",
    "- $C$ as the set of all chemicals (c1 to c8).\n",
    "\n",
    "- $c_{i}$ as the cost per unit volume of chemical $i \\in C$.\n",
    "\n",
    "- $E_{i}$ as the energy provided by per unit volume of chemical $i \\in C$.\n",
    "\n",
    "- $F1_{i}$ as Flavor1 provided by per unit volume of chemical $i \\in C$.\n",
    "\n",
    "- $F2_{i}$ as Flavor2 provided by per unit volume of chemical $i \\in C$.\n",
    "\n",
    "- $x_{i}$ as the unit volume of chemical $i \\in C$ to use in OptiDrink (Continuous Decision Variable).\n",
    "\n",
    "- $y_{i}$ as the binary decision variable which equals 1 if chemical $i \\in C$ is used, 0 otherwise (Binary Decision Variable).\n",
    "\n",
    "**Objective Function:**\n",
    "\n",
    "Minimize the total cost of chemicals used:\n",
    "\n",
    "$$\\min \\sum_{i \\in C} c_{i} \\cdot x_{i}$$\n",
    "\n",
    "**Constraints:**\n",
    "\n",
    "1. `Total Volume Constraint:` The total volume of all chemicals used should add up to one unit:\n",
    "\n",
    "$$\\sum_{i \\in C} x_{i} = 1$$\n",
    "\n",
    "2. `Energy Requirement Constraint:` The OptiDrink must contain between a minimum and maximum limit of energy:\n",
    "\n",
    "$$MinE \\le \\sum_{i \\in C} E_{i} \\cdot x_{i} \\le MaxE$$\n",
    "\n",
    "3. `Flavor1 Requirement Constraint:` The OptiDrink must contain between a minimum and maximum limit of Flavor1:\n",
    "\n",
    "$$MinF1 \\le \\sum_{i \\in C} F1_{i} \\cdot x_{i} \\le MaxF1$$\n",
    "\n",
    "4. `Flavor2 Requirement Constraint:` The OptiDrink must contain between a minimum and maximum limit of Flavor2:\n",
    "\n",
    "$$MinF2 \\le \\sum_{i \\in C} F2_{i} \\cdot x_{i} \\le MaxF2$$\n",
    "\n",
    "5. `Chemical Usage Constraint:` If a chemical is used, the volume used must be between 0.1 and 0.4 units:\n",
    "\n",
    "$$0.1 \\cdot y_{i} \\le x_{i} \\le 0.4 \\cdot y_{i} \\quad \\forall i \\in C$$\n",
    "\n",
    "6. `Binary Restrictions:` The $y_{i}$ are binary variables:\n",
    "\n",
    "$$y_{i} \\in \\{0,1\\} \\quad \\forall i \\in C$$"
   ]
  },
  {
   "cell_type": "markdown",
   "metadata": {},
   "source": [
    "### OptiDrink Mixing Problem:\n",
    "\n",
    "**Objective:** Minimize the total cost of producing OptiDrink, which is a high-energy drink, meeting the specific energy and flavor requirements.\n",
    "\n",
    "**Problem Type:** This is a Mixed Integer Programming (MIP) problem where the decision variables can be both continuous (amount of each chemical to use in the mix) and binary (whether to use a certain chemical or not).\n",
    "\n",
    "**Sets:**\n",
    "- $C$: set of chemicals {c1, c2, ..., c8}\n",
    "\n",
    "**Parameters:**\n",
    "- $C_c$: cost per unit volume of chemical $c$ in $C$\n",
    "- $E_c$: energy provided by per unit volume of chemical $c$ in $C$\n",
    "- $F1_c$: Flavor1 provided by per unit volume of chemical $c$ in $C$\n",
    "- $F2_c$: Flavor2 provided by per unit volume of chemical $c$ in $C$\n",
    "- $MinE$, $MaxE$: Minimum and maximum energy requirement for OptiDrink\n",
    "- $MinF1$, $MaxF1$: Minimum and maximum Flavor1 requirement for OptiDrink\n",
    "- $MinF2$, $MaxF2$: Minimum and maximum Flavor2 requirement for OptiDrink\n",
    "\n",
    "**Decision Variables:**\n",
    "- $x_c$: unit volume of chemical $c$ to use in OptiDrink (Continuous)\n",
    "- $y_c$: whether chemical $c$ is used or not (Binary)\n",
    "\n",
    "**Objective Function:**\n",
    "Minimize the total cost of chemicals used:\n",
    "\n",
    "$$\\min \\sum_{c \\in C} C_c \\cdot x_c$$\n",
    "\n",
    "**Constraints:**\n",
    "\n",
    "1. `Total volume:` The total volume of all chemicals used should add up to one unit:\n",
    "\n",
    "$$\\sum_{c \\in C} x_c = 1$$\n",
    "\n",
    "2. `Energy requirements:` The OptiDrink must contain between $MinE$ and $MaxE$ units of energy:\n",
    "\n",
    "$$MinE \\le \\sum_{c \\in C} E_c \\cdot x_c \\le MaxE$$\n",
    "\n",
    "3. `Flavor1 requirements:` The OptiDrink must contain between $MinF1$ and $MaxF1$ units of Flavor1:\n",
    "\n",
    "$$MinF1 \\le \\sum_{c \\in C} F1_c \\cdot x_c \\le MaxF1$$\n",
    "\n",
    "4. `Flavor2 requirements:` The OptiDrink must contain between $MinF2$ and $MaxF2$ units of Flavor2:\n",
    "\n",
    "$$MinF2 \\le \\sum_{c \\in C} F2_c \\cdot x_c \\le MaxF2$$\n",
    "\n",
    "5. `Chemical usage:` If a chemical is used, the volume used must be between 0.1 and 0.4 units:\n",
    "\n",
    "$$0.1 \\cdot y_c \\le x_c \\le 0.4 \\cdot y_c \\quad \\forall c \\in C$$\n",
    "\n",
    "6. `Binary restrictions:` The $y_c$ are binary variables:\n",
    "\n",
    "$$y_c \\in \\{0,1\\} \\quad \\forall c \\in C$$"
   ]
  },
  {
   "cell_type": "code",
   "execution_count": null,
   "metadata": {},
   "outputs": [],
   "source": []
  },
  {
   "cell_type": "markdown",
   "metadata": {},
   "source": [
    "## Python Implementation"
   ]
  },
  {
   "cell_type": "code",
   "execution_count": 2,
   "metadata": {},
   "outputs": [],
   "source": [
    "# data\n",
    "Cost = {'c1' : 1.4, 'c2' : 1.7, 'c3' : 0.8, 'c4' : 2, 'c5' : 1.6, 'c6' : 1.5, 'c7' : 1.1, 'c8' : 0.9}\n",
    "\n",
    "Content = {\n",
    "    ('c1','Energy') : 300, \t('c1','Flavor1') : 0.4, \t('c1','Flavor2') : 0.6, \t\n",
    "    ('c2','Energy') : 200, \t('c2','Flavor1') : 0.6, \t('c2','Flavor2') : 0.5, \t\n",
    "    ('c3','Energy') : 510, \t('c3','Flavor1') : 0.4, \t('c3','Flavor2') : 0.3, \t\n",
    "    ('c4','Energy') : 400, \t('c4','Flavor1') : 0.7, \t('c4','Flavor2') : 0.4, \t\n",
    "    ('c5','Energy') : 360, \t('c5','Flavor1') : 0.5, \t('c5','Flavor2') : 0.7, \t\n",
    "    ('c6','Energy') : 150, \t('c6','Flavor1') : 0.3, \t('c6','Flavor2') : 0.3, \t\n",
    "    ('c7','Energy') : 240, \t('c7','Flavor1') : 0.3, \t('c7','Flavor2') : 0.2, \t\n",
    "    ('c8','Energy') : 350, \t('c8','Flavor1') : 0.5, \t('c8','Flavor2') : 0.6\n",
    "}\n",
    "\n",
    "MinReq = {'Energy' : 400, 'Flavor1' : 0.5, 'Flavor2' : 0.4}\n",
    "MaxReq = {'Energy' : 500, 'Flavor1' : 0.55, 'Flavor2' : 0.45}"
   ]
  },
  {
   "cell_type": "code",
   "execution_count": 3,
   "metadata": {},
   "outputs": [
    {
     "name": "stdout",
     "output_type": "stream",
     "text": [
      "Ingredient c1: 0 units\n",
      "Ingredient c2: 0 units\n",
      "Ingredient c3: 0.4 units\n",
      "Ingredient c4: 0.19999999999999996 units\n",
      "Ingredient c5: 0 units\n",
      "Ingredient c6: 0 units\n",
      "Ingredient c7: 0 units\n",
      "Ingredient c8: 0.4 units\n"
     ]
    }
   ],
   "source": [
    "from docplex.mp.model import Model\n",
    "\n",
    "# Define the model\n",
    "mdl = Model('OptiDrink')\n",
    "\n",
    "# Define the sets\n",
    "Ingredients = list(Cost.keys())\n",
    "Nutrients = list(MinReq.keys())\n",
    "\n",
    "# Define the variables\n",
    "x = mdl.continuous_var_dict(Ingredients, lb=0, ub=1, name='x')\n",
    "y = mdl.binary_var_dict(Ingredients, name='y')\n",
    "\n",
    "# Define the objective function\n",
    "mdl.minimize(mdl.sum(Cost[i] * x[i] for i in Ingredients))\n",
    "\n",
    "# Define the constraints\n",
    "# Total volume constraint\n",
    "mdl.add_constraint(mdl.sum(x[i] for i in Ingredients) == 1)\n",
    "\n",
    "# Nutritional content constraints\n",
    "for n in Nutrients:\n",
    "    mdl.add_constraint(mdl.sum(Content[i, n] * x[i] for i in Ingredients) >= MinReq[n])\n",
    "    mdl.add_constraint(mdl.sum(Content[i, n] * x[i] for i in Ingredients) <= MaxReq[n])\n",
    "\n",
    "# Ingredient usage constraints\n",
    "for i in Ingredients:\n",
    "    mdl.add_constraint(x[i] >= 0.1 * y[i])\n",
    "    mdl.add_constraint(x[i] <= 0.4 * y[i])\n",
    "\n",
    "# Solve the model\n",
    "mdl.solve()\n",
    "\n",
    "# Print the solution\n",
    "for i in Ingredients:\n",
    "    print(f'Ingredient {i}: {x[i].solution_value} units')"
   ]
  },
  {
   "cell_type": "code",
   "execution_count": null,
   "metadata": {},
   "outputs": [],
   "source": []
  },
  {
   "cell_type": "code",
   "execution_count": null,
   "metadata": {},
   "outputs": [],
   "source": []
  },
  {
   "cell_type": "code",
   "execution_count": null,
   "metadata": {},
   "outputs": [],
   "source": []
  },
  {
   "cell_type": "code",
   "execution_count": null,
   "metadata": {},
   "outputs": [],
   "source": []
  },
  {
   "cell_type": "markdown",
   "metadata": {},
   "source": [
    "## Quiz Section"
   ]
  }
 ],
 "metadata": {
  "kernelspec": {
   "display_name": "Python 3 (ipykernel)",
   "language": "python",
   "name": "python3"
  },
  "language_info": {
   "codemirror_mode": {
    "name": "ipython",
    "version": 3
   },
   "file_extension": ".py",
   "mimetype": "text/x-python",
   "name": "python",
   "nbconvert_exporter": "python",
   "pygments_lexer": "ipython3",
   "version": "3.9.16"
  }
 },
 "nbformat": 4,
 "nbformat_minor": 2
}
